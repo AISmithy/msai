{
  "cells": [
    {
      "cell_type": "markdown",
      "id": "b076bd1a-b236-4fbc-953d-8295b25122ae",
      "metadata": {
        "id": "b076bd1a-b236-4fbc-953d-8295b25122ae"
      },
      "source": [
        "# 🤪 Conditional WGAN-GP on CelebA Faces - Train"
      ]
    },
    {
      "cell_type": "markdown",
      "id": "9235cbd1-f136-411c-88d9-f69f270c0b96",
      "metadata": {
        "id": "9235cbd1-f136-411c-88d9-f69f270c0b96"
      },
      "source": [
        "In this notebook, we'll walk through the steps required to train your own Conditional GAN on the CelebA faces dataset"
      ]
    },
    {
      "cell_type": "markdown",
      "id": "71cc98c1-83bf-4e5c-88d2-b3c55002dc65",
      "metadata": {
        "id": "71cc98c1-83bf-4e5c-88d2-b3c55002dc65"
      },
      "source": [
        "The code has been adapted from the excellent [CGAN tutorial](https://keras.io/examples/generative/conditional_gan/) created by Sayak Paul, available on the Keras website."
      ]
    },
    {
      "cell_type": "code",
      "execution_count": null,
      "id": "84acc7be-6764-4668-b2bb-178f63deeed3",
      "metadata": {
        "colab": {
          "base_uri": "https://localhost:8080/",
          "height": 403
        },
        "id": "84acc7be-6764-4668-b2bb-178f63deeed3",
        "outputId": "3133c755-b5cc-40da-ca46-c2e418ec31c5"
      },
      "outputs": [
        {
          "output_type": "stream",
          "name": "stdout",
          "text": [
            "The autoreload extension is already loaded. To reload it, use:\n",
            "  %reload_ext autoreload\n"
          ]
        },
        {
          "output_type": "error",
          "ename": "ModuleNotFoundError",
          "evalue": "No module named 'utils'",
          "traceback": [
            "\u001b[0;31m---------------------------------------------------------------------------\u001b[0m",
            "\u001b[0;31mModuleNotFoundError\u001b[0m                       Traceback (most recent call last)",
            "\u001b[0;32m<ipython-input-12-54b607ce6ab8>\u001b[0m in \u001b[0;36m<cell line: 0>\u001b[0;34m()\u001b[0m\n\u001b[1;32m     14\u001b[0m )\n\u001b[1;32m     15\u001b[0m \u001b[0;34m\u001b[0m\u001b[0m\n\u001b[0;32m---> 16\u001b[0;31m \u001b[0;32mfrom\u001b[0m \u001b[0mutils\u001b[0m \u001b[0;32mimport\u001b[0m \u001b[0mdisplay\u001b[0m\u001b[0;34m,\u001b[0m \u001b[0msample_batch\u001b[0m\u001b[0;34m\u001b[0m\u001b[0;34m\u001b[0m\u001b[0m\n\u001b[0m",
            "\u001b[0;31mModuleNotFoundError\u001b[0m: No module named 'utils'",
            "",
            "\u001b[0;31m---------------------------------------------------------------------------\u001b[0;32m\nNOTE: If your import is failing due to a missing package, you can\nmanually install dependencies using either !pip or !apt.\n\nTo view examples of installing some common dependencies, click the\n\"Open Examples\" button below.\n\u001b[0;31m---------------------------------------------------------------------------\u001b[0m\n"
          ],
          "errorDetails": {
            "actions": [
              {
                "action": "open_url",
                "actionText": "Open Examples",
                "url": "/notebooks/snippets/importing_libraries.ipynb"
              }
            ]
          }
        }
      ],
      "source": [
        "%load_ext autoreload\n",
        "%autoreload 2\n",
        "import numpy as np\n",
        "import pandas as pd\n",
        "\n",
        "import tensorflow as tf\n",
        "from tensorflow.keras import (\n",
        "    layers,\n",
        "    models,\n",
        "    callbacks,\n",
        "    utils,\n",
        "    metrics,\n",
        "    optimizers,\n",
        ")\n",
        "\n",
        "from utils import display, sample_batch"
      ]
    },
    {
      "cell_type": "markdown",
      "id": "339e6268-ebd7-4feb-86db-1fe7abccdbe5",
      "metadata": {
        "id": "339e6268-ebd7-4feb-86db-1fe7abccdbe5"
      },
      "source": [
        "## 0. Parameters <a name=\"parameters\"></a>"
      ]
    },
    {
      "cell_type": "code",
      "execution_count": null,
      "id": "1b2ee6ce-129f-4833-b0c5-fa567381c4e0",
      "metadata": {
        "id": "1b2ee6ce-129f-4833-b0c5-fa567381c4e0"
      },
      "outputs": [],
      "source": [
        "IMAGE_SIZE = 64\n",
        "CHANNELS = 3\n",
        "CLASSES = 2\n",
        "BATCH_SIZE = 128\n",
        "Z_DIM = 32\n",
        "LEARNING_RATE = 0.00005\n",
        "ADAM_BETA_1 = 0.5\n",
        "ADAM_BETA_2 = 0.999\n",
        "EPOCHS = 20\n",
        "CRITIC_STEPS = 3\n",
        "GP_WEIGHT = 10.0\n",
        "LOAD_MODEL = False\n",
        "ADAM_BETA_1 = 0.5\n",
        "ADAM_BETA_2 = 0.9\n",
        "LABEL = \"Blond_Hair\""
      ]
    },
    {
      "cell_type": "markdown",
      "id": "b7716fac-0010-49b0-b98e-53be2259edde",
      "metadata": {
        "id": "b7716fac-0010-49b0-b98e-53be2259edde"
      },
      "source": [
        "## 1. Prepare the data <a name=\"prepare\"></a>"
      ]
    },
    {
      "cell_type": "code",
      "source": [
        "from google.colab import drive\n",
        "drive.mount('/content/drive')"
      ],
      "metadata": {
        "colab": {
          "base_uri": "https://localhost:8080/"
        },
        "id": "bl4Y_12EF3wS",
        "outputId": "14b6848d-cc42-4a52-c7bc-d23b43b58129"
      },
      "id": "bl4Y_12EF3wS",
      "execution_count": null,
      "outputs": [
        {
          "output_type": "stream",
          "name": "stdout",
          "text": [
            "Drive already mounted at /content/drive; to attempt to forcibly remount, call drive.mount(\"/content/drive\", force_remount=True).\n"
          ]
        }
      ]
    },
    {
      "source": [
        "# Load the label dataset\n",
        "attributes = pd.read_csv(\"/content/drive/MyDrive/MSAI-630-A01/list_attr_celeba.csv\") # Updated path to include the Google Drive mount point\n",
        "print(attributes.columns)\n",
        "attributes.head()"
      ],
      "cell_type": "code",
      "metadata": {
        "colab": {
          "base_uri": "https://localhost:8080/",
          "height": 222
        },
        "id": "Bsykx-W9Dyke",
        "outputId": "f2c6c83d-b825-4e74-c3a7-adc5dc6b8ccd"
      },
      "id": "Bsykx-W9Dyke",
      "execution_count": null,
      "outputs": [
        {
          "output_type": "error",
          "ename": "NameError",
          "evalue": "name 'pd' is not defined",
          "traceback": [
            "\u001b[0;31m---------------------------------------------------------------------------\u001b[0m",
            "\u001b[0;31mNameError\u001b[0m                                 Traceback (most recent call last)",
            "\u001b[0;32m<ipython-input-1-37705458d790>\u001b[0m in \u001b[0;36m<cell line: 0>\u001b[0;34m()\u001b[0m\n\u001b[1;32m      1\u001b[0m \u001b[0;31m# Load the label dataset\u001b[0m\u001b[0;34m\u001b[0m\u001b[0;34m\u001b[0m\u001b[0m\n\u001b[0;32m----> 2\u001b[0;31m \u001b[0mattributes\u001b[0m \u001b[0;34m=\u001b[0m \u001b[0mpd\u001b[0m\u001b[0;34m.\u001b[0m\u001b[0mread_csv\u001b[0m\u001b[0;34m(\u001b[0m\u001b[0;34m\"/content/drive/MyDrive/MSAI-630-A01/list_attr_celeba.csv\"\u001b[0m\u001b[0;34m)\u001b[0m \u001b[0;31m# Updated path to include the Google Drive mount point\u001b[0m\u001b[0;34m\u001b[0m\u001b[0;34m\u001b[0m\u001b[0m\n\u001b[0m\u001b[1;32m      3\u001b[0m \u001b[0mprint\u001b[0m\u001b[0;34m(\u001b[0m\u001b[0mattributes\u001b[0m\u001b[0;34m.\u001b[0m\u001b[0mcolumns\u001b[0m\u001b[0;34m)\u001b[0m\u001b[0;34m\u001b[0m\u001b[0;34m\u001b[0m\u001b[0m\n\u001b[1;32m      4\u001b[0m \u001b[0mattributes\u001b[0m\u001b[0;34m.\u001b[0m\u001b[0mhead\u001b[0m\u001b[0;34m(\u001b[0m\u001b[0;34m)\u001b[0m\u001b[0;34m\u001b[0m\u001b[0;34m\u001b[0m\u001b[0m\n",
            "\u001b[0;31mNameError\u001b[0m: name 'pd' is not defined"
          ]
        }
      ]
    },
    {
      "cell_type": "code",
      "execution_count": null,
      "id": "4d8876d4-a6a6-4a52-9b1e-cd985d43df20",
      "metadata": {
        "id": "4d8876d4-a6a6-4a52-9b1e-cd985d43df20"
      },
      "outputs": [],
      "source": [
        "# Load the data\n",
        "labels = attributes[LABEL].tolist()\n",
        "int_labels = [x if x == 1 else 0 for x in labels]"
      ]
    },
    {
      "cell_type": "code",
      "execution_count": null,
      "id": "4d38a9ab-cbbe-49b7-924d-98e5e3fb6c1f",
      "metadata": {
        "colab": {
          "base_uri": "https://localhost:8080/",
          "height": 412
        },
        "id": "4d38a9ab-cbbe-49b7-924d-98e5e3fb6c1f",
        "outputId": "18466cd9-e93f-4226-e47a-dad59bbc1d99"
      },
      "outputs": [
        {
          "output_type": "error",
          "ename": "ValueError",
          "evalue": "Expected the lengths of `labels` to match the number of files in the target directory. len(labels) is 202599 while we found 0 files in directory images/celeba-dataset/img_align_celeba.",
          "traceback": [
            "\u001b[0;31m---------------------------------------------------------------------------\u001b[0m",
            "\u001b[0;31mValueError\u001b[0m                                Traceback (most recent call last)",
            "\u001b[0;32m<ipython-input-51-094a112ce44e>\u001b[0m in \u001b[0;36m<cell line: 0>\u001b[0;34m()\u001b[0m\n\u001b[0;32m----> 1\u001b[0;31m train_data = utils.image_dataset_from_directory(\n\u001b[0m\u001b[1;32m      2\u001b[0m     \u001b[0;34m\"images/celeba-dataset/img_align_celeba\"\u001b[0m\u001b[0;34m,\u001b[0m\u001b[0;34m\u001b[0m\u001b[0;34m\u001b[0m\u001b[0m\n\u001b[1;32m      3\u001b[0m     \u001b[0mlabels\u001b[0m\u001b[0;34m=\u001b[0m\u001b[0mint_labels\u001b[0m\u001b[0;34m,\u001b[0m\u001b[0;34m\u001b[0m\u001b[0;34m\u001b[0m\u001b[0m\n\u001b[1;32m      4\u001b[0m     \u001b[0mcolor_mode\u001b[0m\u001b[0;34m=\u001b[0m\u001b[0;34m\"rgb\"\u001b[0m\u001b[0;34m,\u001b[0m\u001b[0;34m\u001b[0m\u001b[0;34m\u001b[0m\u001b[0m\n\u001b[1;32m      5\u001b[0m     \u001b[0mimage_size\u001b[0m\u001b[0;34m=\u001b[0m\u001b[0;34m(\u001b[0m\u001b[0mIMAGE_SIZE\u001b[0m\u001b[0;34m,\u001b[0m \u001b[0mIMAGE_SIZE\u001b[0m\u001b[0;34m)\u001b[0m\u001b[0;34m,\u001b[0m\u001b[0;34m\u001b[0m\u001b[0;34m\u001b[0m\u001b[0m\n",
            "\u001b[0;32m/usr/local/lib/python3.11/dist-packages/keras/src/utils/image_dataset_utils.py\u001b[0m in \u001b[0;36mimage_dataset_from_directory\u001b[0;34m(directory, labels, label_mode, class_names, color_mode, batch_size, image_size, shuffle, seed, validation_split, subset, interpolation, follow_links, crop_to_aspect_ratio, pad_to_aspect_ratio, data_format, verbose)\u001b[0m\n\u001b[1;32m    222\u001b[0m     \u001b[0;32mif\u001b[0m \u001b[0mseed\u001b[0m \u001b[0;32mis\u001b[0m \u001b[0;32mNone\u001b[0m\u001b[0;34m:\u001b[0m\u001b[0;34m\u001b[0m\u001b[0;34m\u001b[0m\u001b[0m\n\u001b[1;32m    223\u001b[0m         \u001b[0mseed\u001b[0m \u001b[0;34m=\u001b[0m \u001b[0mnp\u001b[0m\u001b[0;34m.\u001b[0m\u001b[0mrandom\u001b[0m\u001b[0;34m.\u001b[0m\u001b[0mrandint\u001b[0m\u001b[0;34m(\u001b[0m\u001b[0;36m1e6\u001b[0m\u001b[0;34m)\u001b[0m\u001b[0;34m\u001b[0m\u001b[0;34m\u001b[0m\u001b[0m\n\u001b[0;32m--> 224\u001b[0;31m     image_paths, labels, class_names = dataset_utils.index_directory(\n\u001b[0m\u001b[1;32m    225\u001b[0m         \u001b[0mdirectory\u001b[0m\u001b[0;34m,\u001b[0m\u001b[0;34m\u001b[0m\u001b[0;34m\u001b[0m\u001b[0m\n\u001b[1;32m    226\u001b[0m         \u001b[0mlabels\u001b[0m\u001b[0;34m,\u001b[0m\u001b[0;34m\u001b[0m\u001b[0;34m\u001b[0m\u001b[0m\n",
            "\u001b[0;32m/usr/local/lib/python3.11/dist-packages/keras/src/utils/dataset_utils.py\u001b[0m in \u001b[0;36mindex_directory\u001b[0;34m(directory, labels, formats, class_names, shuffle, seed, follow_links, verbose)\u001b[0m\n\u001b[1;32m    592\u001b[0m         \u001b[0;31m# Manual labels.\u001b[0m\u001b[0;34m\u001b[0m\u001b[0;34m\u001b[0m\u001b[0m\n\u001b[1;32m    593\u001b[0m         \u001b[0;32mif\u001b[0m \u001b[0mlen\u001b[0m\u001b[0;34m(\u001b[0m\u001b[0mlabels\u001b[0m\u001b[0;34m)\u001b[0m \u001b[0;34m!=\u001b[0m \u001b[0mlen\u001b[0m\u001b[0;34m(\u001b[0m\u001b[0mfilenames\u001b[0m\u001b[0;34m)\u001b[0m\u001b[0;34m:\u001b[0m\u001b[0;34m\u001b[0m\u001b[0;34m\u001b[0m\u001b[0m\n\u001b[0;32m--> 594\u001b[0;31m             raise ValueError(\n\u001b[0m\u001b[1;32m    595\u001b[0m                 \u001b[0;34m\"Expected the lengths of `labels` to match the number \"\u001b[0m\u001b[0;34m\u001b[0m\u001b[0;34m\u001b[0m\u001b[0m\n\u001b[1;32m    596\u001b[0m                 \u001b[0;34m\"of files in the target directory. len(labels) is \"\u001b[0m\u001b[0;34m\u001b[0m\u001b[0;34m\u001b[0m\u001b[0m\n",
            "\u001b[0;31mValueError\u001b[0m: Expected the lengths of `labels` to match the number of files in the target directory. len(labels) is 202599 while we found 0 files in directory images/celeba-dataset/img_align_celeba."
          ]
        }
      ],
      "source": [
        "train_data = utils.image_dataset_from_directory(\n",
        "    \"/content/drive/MyDrive/MSAI-630-A01/celeba-dataset/img_align_celeba\",\n",
        "    labels=int_labels,\n",
        "    color_mode=\"rgb\",\n",
        "    image_size=(IMAGE_SIZE, IMAGE_SIZE),\n",
        "    batch_size=BATCH_SIZE,\n",
        "    shuffle=True,\n",
        "    seed=42,\n",
        "    interpolation=\"bilinear\",\n",
        ")"
      ]
    },
    {
      "cell_type": "code",
      "execution_count": null,
      "id": "ebae2f0d-59fd-4796-841f-7213eae638de",
      "metadata": {
        "id": "ebae2f0d-59fd-4796-841f-7213eae638de"
      },
      "outputs": [],
      "source": [
        "# Preprocess the data\n",
        "def preprocess(img):\n",
        "    \"\"\"\n",
        "    Normalize and reshape the images\n",
        "    \"\"\"\n",
        "    img = (tf.cast(img, \"float32\") - 127.5) / 127.5\n",
        "    return img\n",
        "\n",
        "\n",
        "train = train_data.map(\n",
        "    lambda x, y: (preprocess(x), tf.one_hot(y, depth=CLASSES))\n",
        ")"
      ]
    },
    {
      "cell_type": "code",
      "execution_count": null,
      "id": "fa53709f-7f3f-483b-9db8-2e5f9b9942c2",
      "metadata": {
        "id": "fa53709f-7f3f-483b-9db8-2e5f9b9942c2"
      },
      "outputs": [],
      "source": [
        "# Show some faces from the training set\n",
        "train_sample = sample_batch(train)"
      ]
    },
    {
      "cell_type": "code",
      "execution_count": null,
      "id": "b86c15ef-82b2-4a75-99f7-2d8810440403",
      "metadata": {
        "id": "b86c15ef-82b2-4a75-99f7-2d8810440403"
      },
      "outputs": [],
      "source": [
        "display(train_sample, cmap=None)"
      ]
    },
    {
      "cell_type": "markdown",
      "id": "aff50401-3abe-4c10-bba8-b35bc13ad7d5",
      "metadata": {
        "tags": [],
        "id": "aff50401-3abe-4c10-bba8-b35bc13ad7d5"
      },
      "source": [
        "## 2. Build the GAN <a name=\"build\"></a>"
      ]
    },
    {
      "cell_type": "code",
      "execution_count": null,
      "id": "371eb69d-e534-4666-a412-b5b6fe24689a",
      "metadata": {
        "id": "371eb69d-e534-4666-a412-b5b6fe24689a"
      },
      "outputs": [],
      "source": [
        "critic_input = layers.Input(shape=(IMAGE_SIZE, IMAGE_SIZE, CHANNELS))\n",
        "label_input = layers.Input(shape=(IMAGE_SIZE, IMAGE_SIZE, CLASSES))\n",
        "x = layers.Concatenate(axis=-1)([critic_input, label_input])\n",
        "x = layers.Conv2D(64, kernel_size=4, strides=2, padding=\"same\")(x)\n",
        "x = layers.LeakyReLU(0.2)(x)\n",
        "x = layers.Conv2D(128, kernel_size=4, strides=2, padding=\"same\")(x)\n",
        "x = layers.LeakyReLU()(x)\n",
        "x = layers.Dropout(0.3)(x)\n",
        "x = layers.Conv2D(128, kernel_size=4, strides=2, padding=\"same\")(x)\n",
        "x = layers.LeakyReLU(0.2)(x)\n",
        "x = layers.Dropout(0.3)(x)\n",
        "x = layers.Conv2D(128, kernel_size=4, strides=2, padding=\"same\")(x)\n",
        "x = layers.LeakyReLU(0.2)(x)\n",
        "x = layers.Dropout(0.3)(x)\n",
        "x = layers.Conv2D(1, kernel_size=4, strides=1, padding=\"valid\")(x)\n",
        "critic_output = layers.Flatten()(x)\n",
        "\n",
        "critic = models.Model([critic_input, label_input], critic_output)\n",
        "critic.summary()"
      ]
    },
    {
      "cell_type": "code",
      "execution_count": null,
      "id": "086e2584-c60d-4990-89f4-2092c44e023e",
      "metadata": {
        "id": "086e2584-c60d-4990-89f4-2092c44e023e"
      },
      "outputs": [],
      "source": [
        "generator_input = layers.Input(shape=(Z_DIM,))\n",
        "label_input = layers.Input(shape=(CLASSES,))\n",
        "x = layers.Concatenate(axis=-1)([generator_input, label_input])\n",
        "x = layers.Reshape((1, 1, Z_DIM + CLASSES))(x)\n",
        "x = layers.Conv2DTranspose(\n",
        "    128, kernel_size=4, strides=1, padding=\"valid\", use_bias=False\n",
        ")(x)\n",
        "x = layers.BatchNormalization(momentum=0.9)(x)\n",
        "x = layers.LeakyReLU(0.2)(x)\n",
        "x = layers.Conv2DTranspose(\n",
        "    128, kernel_size=4, strides=2, padding=\"same\", use_bias=False\n",
        ")(x)\n",
        "x = layers.BatchNormalization(momentum=0.9)(x)\n",
        "x = layers.LeakyReLU(0.2)(x)\n",
        "x = layers.Conv2DTranspose(\n",
        "    128, kernel_size=4, strides=2, padding=\"same\", use_bias=False\n",
        ")(x)\n",
        "x = layers.BatchNormalization(momentum=0.9)(x)\n",
        "x = layers.LeakyReLU(0.2)(x)\n",
        "x = layers.Conv2DTranspose(\n",
        "    64, kernel_size=4, strides=2, padding=\"same\", use_bias=False\n",
        ")(x)\n",
        "x = layers.BatchNormalization(momentum=0.9)(x)\n",
        "x = layers.LeakyReLU(0.2)(x)\n",
        "generator_output = layers.Conv2DTranspose(\n",
        "    CHANNELS, kernel_size=4, strides=2, padding=\"same\", activation=\"tanh\"\n",
        ")(x)\n",
        "generator = models.Model([generator_input, label_input], generator_output)\n",
        "generator.summary()"
      ]
    },
    {
      "cell_type": "code",
      "execution_count": null,
      "id": "88010f20-fb61-498c-b2b2-dac96f6c03b3",
      "metadata": {
        "id": "88010f20-fb61-498c-b2b2-dac96f6c03b3"
      },
      "outputs": [],
      "source": [
        "class ConditionalWGAN(models.Model):\n",
        "    def __init__(self, critic, generator, latent_dim, critic_steps, gp_weight):\n",
        "        super(ConditionalWGAN, self).__init__()\n",
        "        self.critic = critic\n",
        "        self.generator = generator\n",
        "        self.latent_dim = latent_dim\n",
        "        self.critic_steps = critic_steps\n",
        "        self.gp_weight = gp_weight\n",
        "\n",
        "    def compile(self, c_optimizer, g_optimizer):\n",
        "        super(ConditionalWGAN, self).compile(run_eagerly=True)\n",
        "        self.c_optimizer = c_optimizer\n",
        "        self.g_optimizer = g_optimizer\n",
        "        self.c_wass_loss_metric = metrics.Mean(name=\"c_wass_loss\")\n",
        "        self.c_gp_metric = metrics.Mean(name=\"c_gp\")\n",
        "        self.c_loss_metric = metrics.Mean(name=\"c_loss\")\n",
        "        self.g_loss_metric = metrics.Mean(name=\"g_loss\")\n",
        "\n",
        "    @property\n",
        "    def metrics(self):\n",
        "        return [\n",
        "            self.c_loss_metric,\n",
        "            self.c_wass_loss_metric,\n",
        "            self.c_gp_metric,\n",
        "            self.g_loss_metric,\n",
        "        ]\n",
        "\n",
        "    def gradient_penalty(\n",
        "        self, batch_size, real_images, fake_images, image_one_hot_labels\n",
        "    ):\n",
        "        alpha = tf.random.normal([batch_size, 1, 1, 1], 0.0, 1.0)\n",
        "        diff = fake_images - real_images\n",
        "        interpolated = real_images + alpha * diff\n",
        "\n",
        "        with tf.GradientTape() as gp_tape:\n",
        "            gp_tape.watch(interpolated)\n",
        "            pred = self.critic(\n",
        "                [interpolated, image_one_hot_labels], training=True\n",
        "            )\n",
        "\n",
        "        grads = gp_tape.gradient(pred, [interpolated])[0]\n",
        "        norm = tf.sqrt(tf.reduce_sum(tf.square(grads), axis=[1, 2, 3]))\n",
        "        gp = tf.reduce_mean((norm - 1.0) ** 2)\n",
        "        return gp\n",
        "\n",
        "    def train_step(self, data):\n",
        "        real_images, one_hot_labels = data\n",
        "\n",
        "        image_one_hot_labels = one_hot_labels[:, None, None, :]\n",
        "        image_one_hot_labels = tf.repeat(\n",
        "            image_one_hot_labels, repeats=IMAGE_SIZE, axis=1\n",
        "        )\n",
        "        image_one_hot_labels = tf.repeat(\n",
        "            image_one_hot_labels, repeats=IMAGE_SIZE, axis=2\n",
        "        )\n",
        "\n",
        "        batch_size = tf.shape(real_images)[0]\n",
        "\n",
        "        for i in range(self.critic_steps):\n",
        "            random_latent_vectors = tf.random.normal(\n",
        "                shape=(batch_size, self.latent_dim)\n",
        "            )\n",
        "\n",
        "            with tf.GradientTape() as tape:\n",
        "                fake_images = self.generator(\n",
        "                    [random_latent_vectors, one_hot_labels], training=True\n",
        "                )\n",
        "\n",
        "                fake_predictions = self.critic(\n",
        "                    [fake_images, image_one_hot_labels], training=True\n",
        "                )\n",
        "                real_predictions = self.critic(\n",
        "                    [real_images, image_one_hot_labels], training=True\n",
        "                )\n",
        "\n",
        "                c_wass_loss = tf.reduce_mean(fake_predictions) - tf.reduce_mean(\n",
        "                    real_predictions\n",
        "                )\n",
        "                c_gp = self.gradient_penalty(\n",
        "                    batch_size, real_images, fake_images, image_one_hot_labels\n",
        "                )\n",
        "                c_loss = c_wass_loss + c_gp * self.gp_weight\n",
        "\n",
        "            c_gradient = tape.gradient(c_loss, self.critic.trainable_variables)\n",
        "            self.c_optimizer.apply_gradients(\n",
        "                zip(c_gradient, self.critic.trainable_variables)\n",
        "            )\n",
        "\n",
        "        random_latent_vectors = tf.random.normal(\n",
        "            shape=(batch_size, self.latent_dim)\n",
        "        )\n",
        "\n",
        "        with tf.GradientTape() as tape:\n",
        "            fake_images = self.generator(\n",
        "                [random_latent_vectors, one_hot_labels], training=True\n",
        "            )\n",
        "            fake_predictions = self.critic(\n",
        "                [fake_images, image_one_hot_labels], training=True\n",
        "            )\n",
        "            g_loss = -tf.reduce_mean(fake_predictions)\n",
        "\n",
        "        gen_gradient = tape.gradient(g_loss, self.generator.trainable_variables)\n",
        "        self.g_optimizer.apply_gradients(\n",
        "            zip(gen_gradient, self.generator.trainable_variables)\n",
        "        )\n",
        "\n",
        "        self.c_loss_metric.update_state(c_loss)\n",
        "        self.c_wass_loss_metric.update_state(c_wass_loss)\n",
        "        self.c_gp_metric.update_state(c_gp)\n",
        "        self.g_loss_metric.update_state(g_loss)\n",
        "\n",
        "        return {m.name: m.result() for m in self.metrics}"
      ]
    },
    {
      "cell_type": "code",
      "execution_count": null,
      "id": "edf2f892-9209-42ee-b251-1e7604df5335",
      "metadata": {
        "id": "edf2f892-9209-42ee-b251-1e7604df5335"
      },
      "outputs": [],
      "source": [
        "# Create a GAN\n",
        "cgan = ConditionalWGAN(\n",
        "    critic=critic,\n",
        "    generator=generator,\n",
        "    latent_dim=Z_DIM,\n",
        "    critic_steps=CRITIC_STEPS,\n",
        "    gp_weight=GP_WEIGHT,\n",
        ")"
      ]
    },
    {
      "cell_type": "code",
      "execution_count": null,
      "id": "b2f48907-fa82-41b5-8caa-813b2f232c79",
      "metadata": {
        "id": "b2f48907-fa82-41b5-8caa-813b2f232c79"
      },
      "outputs": [],
      "source": [
        "if LOAD_MODEL:\n",
        "    cgan.load_weights(\"./checkpoint/checkpoint.ckpt\")"
      ]
    },
    {
      "cell_type": "markdown",
      "id": "35b14665-4359-447b-be58-3fd58ba69084",
      "metadata": {
        "id": "35b14665-4359-447b-be58-3fd58ba69084"
      },
      "source": [
        "## 3. Train the GAN <a name=\"train\"></a>"
      ]
    },
    {
      "cell_type": "code",
      "execution_count": null,
      "id": "b429fdad-ea9c-45a2-a556-eb950d793824",
      "metadata": {
        "id": "b429fdad-ea9c-45a2-a556-eb950d793824"
      },
      "outputs": [],
      "source": [
        "# Compile the GAN\n",
        "cgan.compile(\n",
        "    c_optimizer=optimizers.Adam(\n",
        "        learning_rate=LEARNING_RATE, beta_1=ADAM_BETA_1, beta_2=ADAM_BETA_2\n",
        "    ),\n",
        "    g_optimizer=optimizers.Adam(\n",
        "        learning_rate=LEARNING_RATE, beta_1=ADAM_BETA_1, beta_2=ADAM_BETA_2\n",
        "    ),\n",
        ")"
      ]
    },
    {
      "cell_type": "code",
      "execution_count": null,
      "id": "c525e44b-b3bb-489c-9d35-fcfe3e714e6a",
      "metadata": {
        "id": "c525e44b-b3bb-489c-9d35-fcfe3e714e6a"
      },
      "outputs": [],
      "source": [
        "# Create a model save checkpoint\n",
        "model_checkpoint_callback = callbacks.ModelCheckpoint(\n",
        "    filepath=\"./checkpoint/checkpoint.ckpt\",\n",
        "    save_weights_only=True,\n",
        "    save_freq=\"epoch\",\n",
        "    verbose=0,\n",
        ")\n",
        "\n",
        "tensorboard_callback = callbacks.TensorBoard(log_dir=\"./logs\")\n",
        "\n",
        "\n",
        "class ImageGenerator(callbacks.Callback):\n",
        "    def __init__(self, num_img, latent_dim):\n",
        "        self.num_img = num_img\n",
        "        self.latent_dim = latent_dim\n",
        "\n",
        "    def on_epoch_end(self, epoch, logs=None):\n",
        "        random_latent_vectors = tf.random.normal(\n",
        "            shape=(self.num_img, self.latent_dim)\n",
        "        )\n",
        "        # 0 label\n",
        "        zero_label = np.repeat([[1, 0]], self.num_img, axis=0)\n",
        "        generated_images = self.model.generator(\n",
        "            [random_latent_vectors, zero_label]\n",
        "        )\n",
        "        generated_images = generated_images * 127.5 + 127.5\n",
        "        generated_images = generated_images.numpy()\n",
        "        display(\n",
        "            generated_images,\n",
        "            save_to=\"./output/generated_img_%03d_label_0.png\" % (epoch),\n",
        "            cmap=None,\n",
        "        )\n",
        "\n",
        "        # 1 label\n",
        "        one_label = np.repeat([[0, 1]], self.num_img, axis=0)\n",
        "        generated_images = self.model.generator(\n",
        "            [random_latent_vectors, one_label]\n",
        "        )\n",
        "        generated_images = generated_images * 127.5 + 127.5\n",
        "        generated_images = generated_images.numpy()\n",
        "        display(\n",
        "            generated_images,\n",
        "            save_to=\"./output/generated_img_%03d_label_1.png\" % (epoch),\n",
        "            cmap=None,\n",
        "        )"
      ]
    },
    {
      "cell_type": "code",
      "execution_count": null,
      "id": "b3c497b7-fa40-48df-b2bf-541239cc9400",
      "metadata": {
        "tags": [],
        "id": "b3c497b7-fa40-48df-b2bf-541239cc9400"
      },
      "outputs": [],
      "source": [
        "history = cgan.fit(\n",
        "    train,\n",
        "    epochs=EPOCHS * 100,\n",
        "    steps_per_epoch=1,\n",
        "    callbacks=[\n",
        "        model_checkpoint_callback,\n",
        "        tensorboard_callback,\n",
        "        ImageGenerator(num_img=10, latent_dim=Z_DIM),\n",
        "    ],\n",
        ")"
      ]
    },
    {
      "cell_type": "code",
      "execution_count": null,
      "id": "028138af-d3a5-4134-b980-d3a8a703e70f",
      "metadata": {
        "id": "028138af-d3a5-4134-b980-d3a8a703e70f"
      },
      "outputs": [],
      "source": [
        "# Save the final models\n",
        "generator.save(\"./models/generator\")\n",
        "critic.save(\"./models/critic\")"
      ]
    },
    {
      "cell_type": "markdown",
      "id": "0765b66b-d12c-42c4-90fa-2ff851a9b3f5",
      "metadata": {
        "id": "0765b66b-d12c-42c4-90fa-2ff851a9b3f5"
      },
      "source": [
        "## Generate images"
      ]
    },
    {
      "cell_type": "code",
      "execution_count": null,
      "id": "86576e84-afc4-443a-b68d-9a5ee13ce730",
      "metadata": {
        "id": "86576e84-afc4-443a-b68d-9a5ee13ce730"
      },
      "outputs": [],
      "source": [
        "# 0 label\n",
        "z_sample = np.random.normal(size=(10, Z_DIM))\n",
        "class_label = np.repeat([[1, 0]], 10, axis=0)\n",
        "imgs = cgan.generator.predict([z_sample, class_label])\n",
        "display(imgs, cmap=None)"
      ]
    },
    {
      "cell_type": "code",
      "execution_count": null,
      "id": "032fca60-2e05-4e8e-8258-9b5fa176d098",
      "metadata": {
        "id": "032fca60-2e05-4e8e-8258-9b5fa176d098"
      },
      "outputs": [],
      "source": [
        "# 1 label\n",
        "z_sample = np.random.normal(size=(10, Z_DIM))\n",
        "class_label = np.repeat([[0, 1]], 10, axis=0)\n",
        "imgs = cgan.generator.predict([z_sample, class_label])\n",
        "display(imgs, cmap=None)"
      ]
    },
    {
      "cell_type": "code",
      "execution_count": null,
      "id": "4277485c-9d25-4015-ac33-071711e9c5ef",
      "metadata": {
        "id": "4277485c-9d25-4015-ac33-071711e9c5ef"
      },
      "outputs": [],
      "source": []
    }
  ],
  "metadata": {
    "kernelspec": {
      "display_name": "Python 3",
      "name": "python3"
    },
    "language_info": {
      "codemirror_mode": {
        "name": "ipython",
        "version": 3
      },
      "file_extension": ".py",
      "mimetype": "text/x-python",
      "name": "python",
      "nbconvert_exporter": "python",
      "pygments_lexer": "ipython3",
      "version": "3.8.10"
    },
    "colab": {
      "provenance": []
    }
  },
  "nbformat": 4,
  "nbformat_minor": 5
}